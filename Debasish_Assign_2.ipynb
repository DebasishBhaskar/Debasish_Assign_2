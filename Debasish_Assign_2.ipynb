{
 "cells": [
  {
   "cell_type": "code",
   "execution_count": 1,
   "metadata": {},
   "outputs": [
    {
     "name": "stdout",
     "output_type": "stream",
     "text": [
      "<generator object func at 0x03BD1230>\n"
     ]
    }
   ],
   "source": [
    "# Session-2 : Assignment-1\n",
    "\n",
    "#Task 1: 1.1\n",
    "# Write a Python Program to implement your own myreduce() function which works exactly like\n",
    "# Python's built-in function reduce()\n",
    "\n",
    "iterable = [None,2,3,4,5,6,7,8,9,10]\n",
    "def func(x,y):\n",
    "    z = 0\n",
    "    for val in iterable:\n",
    "        z = z + val\n",
    "        yield z\n",
    "\n",
    "def myreduce(func, iterable, start = None):\n",
    "    it = iter(iterable)\n",
    "    start = iterable[0]\n",
    "    \n",
    "    if start is None:\n",
    "        try:\n",
    "            start = next(it)\n",
    "        except StopIteration:\n",
    "            raise TypeError('reduce() of empty sequence with no initial value')\n",
    "    accum_value = start\n",
    "    \n",
    "    for x in iterable:\n",
    "        accum_value = func(accum_value, x)\n",
    "        accum_value\n",
    "    return accum_value\n",
    "\n",
    "g = myreduce(func, iterable, start = 2)\n",
    "print(g)"
   ]
  },
  {
   "cell_type": "code",
   "execution_count": 2,
   "metadata": {},
   "outputs": [
    {
     "data": {
      "text/plain": [
       "[21, 42, 49, 84, 301, 686, 700, 147]"
      ]
     },
     "execution_count": 2,
     "metadata": {},
     "output_type": "execute_result"
    }
   ],
   "source": [
    "# Session-2 : Assignment-1\n",
    "\n",
    "#Task 1: 1.2\n",
    "\n",
    "# Write a Python program to implement your own myfilter() function which works exactly like\n",
    "# Python's built-in function filter()\n",
    "\n",
    "numsets = [3, 6, 7, 12, 43, 98, 100, 21]\n",
    "\n",
    "# function that multiply each member of given dataset \n",
    "def fitval(numeric):\n",
    "    samplevals = list(range(8))\n",
    "    s = []\n",
    "    for k in samplevals:\n",
    "        s.append(numeric*k)\n",
    "    return s\n",
    "\n",
    "    \n",
    "def myfilter(numsets):\n",
    "    y = []\n",
    "    for itval in numsets:\n",
    "        x = fitval(itval)\n",
    "        y.append(max(x))\n",
    "    return y\n",
    "        \n",
    "myfilter(numsets)"
   ]
  },
  {
   "cell_type": "code",
   "execution_count": 3,
   "metadata": {},
   "outputs": [
    {
     "data": {
      "text/plain": [
       "['A', 'C', 'A', 'D', 'G', 'I', 'L', 'D']"
      ]
     },
     "execution_count": 3,
     "metadata": {},
     "output_type": "execute_result"
    }
   ],
   "source": [
    "# Session-2 : Assignment-1\n",
    "\n",
    "#Task 1: 2\n",
    "\n",
    "# Implement List comprehensions to produce the following lists.\n",
    "# Write List comprehensions to produce the following Lists\n",
    "\n",
    "d = {'key1':'A','key2':'C','key3':'A','key4':'D','key5':'G','key6':'I','key7':'L','key8':'D'}\n",
    "dval = d.values()\n",
    "[x for x in dval]"
   ]
  },
  {
   "cell_type": "code",
   "execution_count": 4,
   "metadata": {},
   "outputs": [
    {
     "name": "stdout",
     "output_type": "stream",
     "text": [
      "['x', 'xx', 'xxx', 'xxxx', 'y', 'yy', 'yyy', 'yyyy', 'z', 'zz', 'zzz', 'zzzz']\n"
     ]
    }
   ],
   "source": [
    "# Session-2 : Assignment-1\n",
    "\n",
    "#Task 1: 2\n",
    "\n",
    "# Implement List comprehensions to produce the following lists.\n",
    "# Write List comprehensions to produce the following Lists\n",
    "import numpy as np\n",
    "d = {'key1':'x','key2':'y','key3':'z'}\n",
    "r = range(4)\n",
    "l = list(r)\n",
    "a1 = [(val+1)*d['key1'] for val in l]\n",
    "a2 = [(val+1)*d['key2'] for val in l]\n",
    "a3 = [(val+1)*d['key3'] for val in l]\n",
    "ra = np.array([a1,a2,a3])\n",
    "ra1 = ra.ravel()\n",
    "L = list(ra1)\n",
    "print(L)"
   ]
  },
  {
   "cell_type": "code",
   "execution_count": 5,
   "metadata": {},
   "outputs": [
    {
     "name": "stdout",
     "output_type": "stream",
     "text": [
      "['x', 'y', 'z', 'xx', 'yy', 'zz', 'xx', 'yy', 'zz', 'xxxx', 'yyyy', 'zzzz']\n"
     ]
    }
   ],
   "source": [
    "# Session-2 : Assignment-1\n",
    "\n",
    "#Task 1: 2\n",
    "\n",
    "# Implement List comprehensions to produce the following lists.\n",
    "# Write List comprehensions to produce the following Lists\n",
    "import numpy as np\n",
    "d = {'key1':'x','key2':'y','key3':'z'}\n",
    "r = range(4)\n",
    "l = list(r)\n",
    "a1 = [(val+1)*d['key1'] for val in l]\n",
    "a2 = [(val+1)*d['key2'] for val in l]\n",
    "a3 = [(val+1)*d['key3'] for val in l]\n",
    "ra = np.array([a1,a2,a3])\n",
    "rs = ra.shape\n",
    "rc = np.arange(rs[1])\n",
    "M = [ra[:,val] for val in rc]\n",
    "Matrix = np.array(M)\n",
    "Matrix[2,:] = Matrix[1,:].copy()\n",
    "\n",
    "Mat_L = Matrix.ravel()\n",
    "LMAT = list(Mat_L)\n",
    "print(LMAT)"
   ]
  },
  {
   "cell_type": "code",
   "execution_count": 6,
   "metadata": {},
   "outputs": [
    {
     "data": {
      "text/plain": [
       "[[2], [3], [4], [3], [4], [5], [4], [5], [6]]"
      ]
     },
     "execution_count": 6,
     "metadata": {},
     "output_type": "execute_result"
    }
   ],
   "source": [
    "# Session-2 : Assignment-1\n",
    "\n",
    "#Task 1: 2\n",
    "\n",
    "# Implement List comprehensions to produce the following lists.\n",
    "# Write List comprehensions to produce the following Lists\n",
    "import numpy as np\n",
    "r = range(2,5)\n",
    "l = list(r)\n",
    "a1 = [[val] for val in l]\n",
    "a2 = [[val+1] for val in l]\n",
    "a3 = [[val+2] for val in l]\n",
    "nx = np.array([a1,a2,a3])\n",
    "\n",
    "M = np.reshape(nx,(1,9,1))\n",
    "\n",
    "msh = M.shape\n",
    "k = range(msh[1])\n",
    "L = list(k)\n",
    "[list(M[0][val]) for val in L]"
   ]
  },
  {
   "cell_type": "code",
   "execution_count": 7,
   "metadata": {},
   "outputs": [
    {
     "data": {
      "text/plain": [
       "[[2, 3, 4, 5], [3, 4, 5, 6], [4, 5, 6, 7], [5, 6, 7, 8]]"
      ]
     },
     "execution_count": 7,
     "metadata": {},
     "output_type": "execute_result"
    }
   ],
   "source": [
    "# Session-2 : Assignment-1\n",
    "\n",
    "#Task 1: 2\n",
    "\n",
    "# Implement List comprehensions to produce the following lists.\n",
    "# Write List comprehensions to produce the following Lists\n",
    "import numpy as np\n",
    "r = range(2,6)\n",
    "l = list(r)\n",
    "a1 = [(val) for val in l]\n",
    "a2 = [(val+1) for val in l]\n",
    "a3 = [(val+2) for val in l]\n",
    "a4 = [(val+3) for val in l]\n",
    "M = np.array([a1,a2,a3,a4])\n",
    "msh = M.shape\n",
    "k = range(msh[1])\n",
    "\n",
    "L = list(k)\n",
    "[list(M[val]) for val in L]"
   ]
  },
  {
   "cell_type": "code",
   "execution_count": 8,
   "metadata": {},
   "outputs": [
    {
     "data": {
      "text/plain": [
       "[[(1, 1), (2, 1), (3, 1)], [(1, 2), (2, 2), (3, 2)], [(1, 3), (2, 3), (3, 3)]]"
      ]
     },
     "execution_count": 8,
     "metadata": {},
     "output_type": "execute_result"
    }
   ],
   "source": [
    "# Session-2 : Assigment-1\n",
    "\n",
    "#Task 1: 2\n",
    "\n",
    "# Implement List comprehensions to produce the following lists.\n",
    "# Write List comprehensions to produce the following Lists\n",
    "import numpy as np\n",
    "#tpl = [(x, y) for x in [1,2,3] for y in [1,2,3]]\n",
    "tpl1 = [(x1, y1) for x1 in [1,2,3] for y1 in [1]]\n",
    "tpl2 = [(x2, y2) for x2 in [1,2,3] for y2 in [2]]\n",
    "tpl3 = [(x3, y3) for x3 in [1,2,3] for y3 in [3]]\n",
    "\n",
    "[tpl1, tpl2, tpl3] "
   ]
  },
  {
   "cell_type": "code",
   "execution_count": 9,
   "metadata": {},
   "outputs": [
    {
     "name": "stdout",
     "output_type": "stream",
     "text": [
      "Bollywood\n"
     ]
    }
   ],
   "source": [
    "# Session-2 : Assigment-1\n",
    "\n",
    "#Task 1: 3\n",
    "\n",
    "#Implement a function longestWord() that takes a list of words and \n",
    "#returns the longest one.\n",
    "def longestWord(sen): \n",
    "  # code goes here\n",
    "  import string\n",
    "  for char in string.punctuation:\n",
    "    sen = sen.replace(char,' ')\n",
    "  text = sen.split()\n",
    "  text.sort(key = lambda x: len(x))\n",
    "  return text[-1]\n",
    "\n",
    "# keep this function call here  \n",
    "print(longestWord(\"Shahrukh Khan is the King of Bollywood\")) "
   ]
  },
  {
   "cell_type": "code",
   "execution_count": 10,
   "metadata": {},
   "outputs": [],
   "source": [
    "# Session-2 : Assigment-1\n",
    "\n",
    "#Task 2: 1.1\n",
    "\n",
    "# Write a Python Program(with class concepts) to find the area of the triangle \n",
    "# using the below formula.\n",
    "# area = (s*(s-a)*(s-b)*(s-c)) ** 0.5\n",
    "# Function to take the length of the sides of triangle from user should be defined in the parent\n",
    "# class and function to calculate the area should be defined in subclass.\n",
    "\n",
    "import math\n",
    "class triangle:\n",
    "    def __init__(self,a,b,c):\n",
    "        self.a = a\n",
    "        self.b = b\n",
    "        self.c = c\n",
    "#tr=triangle(5,6,7)\n",
    "\n",
    "class calculate(triangle):\n",
    "    def __init__(self):\n",
    "        super(calculate, self).__init__()\n",
    "        triangle.__init__(self,a,b,c)\n",
    "                \n",
    "    def area(self):\n",
    "        s = (self.a + self.b + self.c)/2\n",
    "        area = math.sqrt(s*((s-self.a)*(s-self.b)*(s-self.c)))\n",
    "        return area\n",
    "    \n",
    "    def perimeter(self):\n",
    "        return self.a + self.b + self.c\n",
    "    \n",
    "def main():\n",
    "    tri1=triangle(5,6,7)\n",
    "    tri2=triangle(2,3,2)\n",
    "    tri3=triangle(3,3,3)\n",
    "    c1 = calculate(tri1)\n",
    "    c2 = calculate(tri2)\n",
    "    c3 = calculate(tri3)\n",
    "    #figures = [tri1,tri2,tri3]\n",
    "    figures = [c1,c2,c3]\n",
    "    for fig in figures:\n",
    "        print(\"Area =\", fig.area())"
   ]
  },
  {
   "cell_type": "code",
   "execution_count": 11,
   "metadata": {},
   "outputs": [
    {
     "name": "stdout",
     "output_type": "stream",
     "text": [
      "['Shahrukh', \"Khan's\", 'blockbuster']\n"
     ]
    }
   ],
   "source": [
    "# Session-2 : Assigment-1\n",
    "\n",
    "#Task 2: 1.2\n",
    "\n",
    "# Write a function filter_long_words() that takes a list of words and \n",
    "# an integer n and returns the list of words that are longer than n.\n",
    "\n",
    "def filter_long_word(string,number):\n",
    "    str1 = string.split(' ')\n",
    "    return [word for word in str1 if len(word) > number]\n",
    "\n",
    "flw = filter_long_word(\"Shahrukh Khan's movie ZERO will be blockbuster super duper hit\",5)\n",
    "print(list(flw))"
   ]
  },
  {
   "cell_type": "code",
   "execution_count": 12,
   "metadata": {},
   "outputs": [
    {
     "name": "stdout",
     "output_type": "stream",
     "text": [
      "[8, 6, 5, 4, 4, 2, 11, 5, 5, 3]\n"
     ]
    }
   ],
   "source": [
    "# Session-2 : Assigment-1\n",
    "\n",
    "#Task 2: 2.1\n",
    "\n",
    "# Write a Python program using function concept that maps list of words into a list of integers\n",
    "# representing the lengths of the corresponding words​.\n",
    "# Hint: ​If a list [ ab,cde,erty] is passed on to the python function output should come as [2,3,4]\n",
    "# Here 2,3 and 4 are the lengths of the words in the list.\n",
    "\n",
    "def find_word_length(string):\n",
    "    str1 = string.split(' ')\n",
    "    return [len(word) for word in str1]\n",
    "\n",
    "flw = find_word_length(\"Shahrukh Khan's movie ZERO will be blockbuster super duper hit\")\n",
    "print(list(flw))"
   ]
  },
  {
   "cell_type": "code",
   "execution_count": 13,
   "metadata": {},
   "outputs": [
    {
     "name": "stdout",
     "output_type": "stream",
     "text": [
      "True\n",
      "False\n"
     ]
    }
   ],
   "source": [
    "# Session-2 : Assigment-1\n",
    "\n",
    "#Task 2: 2.2\n",
    "\n",
    "# Write a Python function which takes a character (i.e. a string of length 1) \n",
    "# and returns True if it is a vowel, False otherwise.\n",
    "\n",
    "def is_vowel(char):\n",
    "    all_vowels = 'aeiou'\n",
    "    return char in all_vowels\n",
    "print(is_vowel('e'))\n",
    "print(is_vowel('h'))"
   ]
  }
 ],
 "metadata": {
  "kernelspec": {
   "display_name": "Python 3",
   "language": "python",
   "name": "python3"
  },
  "language_info": {
   "codemirror_mode": {
    "name": "ipython",
    "version": 3
   },
   "file_extension": ".py",
   "mimetype": "text/x-python",
   "name": "python",
   "nbconvert_exporter": "python",
   "pygments_lexer": "ipython3",
   "version": "3.7.0"
  }
 },
 "nbformat": 4,
 "nbformat_minor": 2
}
